{
  "cells": [
    {
      "cell_type": "markdown",
      "metadata": {
        "colab_type": "text",
        "id": "view-in-github"
      },
      "source": [
        "<a href=\"https://colab.research.google.com/github/lukmanaj/ArewaDS-Deep-Learning-with-PyTorch-Assignments/blob/main/Part_1_Deep_Learning_with_PyTorch/week_01/week_1_exercises_part2.ipynb\" target=\"_parent\"><img src=\"https://colab.research.google.com/assets/colab-badge.svg\" alt=\"Open In Colab\"/></a>"
      ]
    },
    {
      "cell_type": "markdown",
      "metadata": {
        "id": "2S7vBg7yNSTW"
      },
      "source": [
        "##GPU PART OF WEEK ONE ASSIGNMENT"
      ]
    },
    {
      "cell_type": "markdown",
      "metadata": {
        "id": "tA_SCqg7N3jA"
      },
      "source": [
        "First, import PyTorch\n"
      ]
    },
    {
      "cell_type": "code",
      "execution_count": 1,
      "metadata": {
        "id": "bcN3Hf0_N8Op"
      },
      "outputs": [],
      "source": [
        "import torch"
      ]
    },
    {
      "cell_type": "code",
      "execution_count": 2,
      "metadata": {
        "colab": {
          "base_uri": "https://localhost:8080/",
          "height": 37
        },
        "id": "UEpLQ6HbOE0h",
        "outputId": "69d1d457-fe0b-41de-8517-b11e8b861e69"
      },
      "outputs": [
        {
          "data": {
            "application/vnd.google.colaboratory.intrinsic+json": {
              "type": "string"
            },
            "text/plain": [
              "'2.1.0+cu121'"
            ]
          },
          "execution_count": 2,
          "metadata": {},
          "output_type": "execute_result"
        }
      ],
      "source": [
        "# checking the version\n",
        "torch.__version__"
      ]
    },
    {
      "cell_type": "markdown",
      "metadata": {
        "id": "-E_ZPyssNro7"
      },
      "source": [
        "First,checking for GPU"
      ]
    },
    {
      "cell_type": "code",
      "execution_count": 3,
      "metadata": {
        "colab": {
          "base_uri": "https://localhost:8080/"
        },
        "id": "xbJPRiRONaFm",
        "outputId": "c0932370-d42b-432a-ecd7-288565a4574c"
      },
      "outputs": [
        {
          "name": "stdout",
          "output_type": "stream",
          "text": [
            "CUDA is available: True\n",
            "CUDA version: 12.1\n",
            "Number of CUDA devices: 1\n",
            "_CudaDeviceProperties(name='Tesla T4', major=7, minor=5, total_memory=15102MB, multi_processor_count=40)\n"
          ]
        }
      ],
      "source": [
        "# Check if CUDA is available\n",
        "cuda_available = torch.cuda.is_available()\n",
        "\n",
        "if cuda_available:\n",
        "    # Get CUDA version from PyTorch\n",
        "    cuda_version = torch.version.cuda\n",
        "\n",
        "    # Get the number of CUDA devices available\n",
        "    num_devices = torch.cuda.device_count()\n",
        "\n",
        "    # Print CUDA details\n",
        "    print(f\"CUDA is available: {cuda_available}\")\n",
        "    print(f\"CUDA version: {cuda_version}\")\n",
        "    print(f\"Number of CUDA devices: {num_devices}\")\n",
        "\n",
        "    # Detail of each CUDA device\n",
        "    for i in range(num_devices):\n",
        "        print(torch.cuda.get_device_properties(i))\n",
        "else:\n",
        "    print(\"CUDA is not available on this system.\")\n"
      ]
    },
    {
      "cell_type": "markdown",
      "metadata": {
        "id": "SPSp6vI_OzJv"
      },
      "source": [
        "## Exercises 6 - 10"
      ]
    },
    {
      "cell_type": "markdown",
      "metadata": {
        "id": "AraaBRPlOtep"
      },
      "source": [
        "6. Create two random tensors of shape (2, 3) and send them both to the GPU (you'll need access to a GPU for this). Set torch.manual_seed(1234) when creating the tensors (this doesn't have to be the GPU random seed)."
      ]
    },
    {
      "cell_type": "code",
      "execution_count": 5,
      "metadata": {
        "colab": {
          "base_uri": "https://localhost:8080/"
        },
        "id": "PB9E5g-5OJQg",
        "outputId": "c1fa1824-cdf5-496e-ddda-3f974d3a50eb"
      },
      "outputs": [
        {
          "name": "stdout",
          "output_type": "stream",
          "text": [
            "tensor 1:\n",
            " tensor([[ 0.0461,  0.4024, -1.0115],\n",
            "        [ 0.2167, -0.6123,  0.5036]], device='cuda:0') \n",
            " tensor 2: \n",
            " tensor([[ 0.2310,  0.6931, -0.2669],\n",
            "        [ 2.1785,  0.1021, -0.2590]], device='cuda:0')\n"
          ]
        }
      ],
      "source": [
        "\n",
        "torch.manual_seed(1234)\n",
        "tensor1 = torch.randn(2, 3)\n",
        "tensor2 = torch.randn(2, 3)\n",
        "\n",
        "tensor1 = tensor1.to('cuda')\n",
        "tensor2 = tensor2.to('cuda')\n",
        "print(f'tensor 1:\\n {tensor1} \\n tensor 2: \\n {tensor2}')"
      ]
    },
    {
      "cell_type": "markdown",
      "metadata": {
        "id": "M0x0LDCrPS8r"
      },
      "source": [
        "7. Perform a matrix multiplication on the tensors you created in 6 (again, you may have to adjust the shapes of one of the tensors)."
      ]
    },
    {
      "cell_type": "code",
      "execution_count": 6,
      "metadata": {
        "colab": {
          "base_uri": "https://localhost:8080/"
        },
        "id": "QWLnGGSAPUGy",
        "outputId": "2718a7aa-71cf-46ca-b93f-064aa51e46e1"
      },
      "outputs": [
        {
          "data": {
            "text/plain": [
              "tensor([[ 0.5595,  0.4036],\n",
              "        [-0.5087,  0.2792]], device='cuda:0')"
            ]
          },
          "execution_count": 6,
          "metadata": {},
          "output_type": "execute_result"
        }
      ],
      "source": [
        "tensor_mult = torch.matmul(tensor1,tensor2.T)\n",
        "tensor_mult"
      ]
    },
    {
      "cell_type": "markdown",
      "metadata": {
        "id": "35_5v90DPlsy"
      },
      "source": [
        "8. Find the maximum and minimum values of the output of 7."
      ]
    },
    {
      "cell_type": "code",
      "execution_count": 7,
      "metadata": {
        "colab": {
          "base_uri": "https://localhost:8080/"
        },
        "id": "WoSiqjJYP6-d",
        "outputId": "fd86b3ff-3374-4b4c-87fd-c84d94ec7a83"
      },
      "outputs": [
        {
          "data": {
            "text/plain": [
              "tensor(0.5595, device='cuda:0')"
            ]
          },
          "execution_count": 7,
          "metadata": {},
          "output_type": "execute_result"
        }
      ],
      "source": [
        "torch.max(tensor_mult)"
      ]
    },
    {
      "cell_type": "code",
      "execution_count": 8,
      "metadata": {
        "colab": {
          "base_uri": "https://localhost:8080/"
        },
        "id": "KS2fDehTQHBP",
        "outputId": "9f08a1cf-56e1-457f-819a-8eb06aa92e9d"
      },
      "outputs": [
        {
          "data": {
            "text/plain": [
              "tensor(-0.5087, device='cuda:0')"
            ]
          },
          "execution_count": 8,
          "metadata": {},
          "output_type": "execute_result"
        }
      ],
      "source": [
        "torch.min(tensor_mult)"
      ]
    },
    {
      "cell_type": "markdown",
      "metadata": {
        "id": "JdKF3tgJPtYv"
      },
      "source": [
        "9. Find the maximum and minimum index values of the output of 7."
      ]
    },
    {
      "cell_type": "code",
      "execution_count": 9,
      "metadata": {
        "colab": {
          "base_uri": "https://localhost:8080/"
        },
        "id": "zn_FOzdQQKV5",
        "outputId": "53e4f704-8ac1-4298-8d58-416aa2631fbc"
      },
      "outputs": [
        {
          "data": {
            "text/plain": [
              "tensor(0, device='cuda:0')"
            ]
          },
          "execution_count": 9,
          "metadata": {},
          "output_type": "execute_result"
        }
      ],
      "source": [
        "torch.argmax(tensor_mult)\n"
      ]
    },
    {
      "cell_type": "code",
      "execution_count": 10,
      "metadata": {
        "colab": {
          "base_uri": "https://localhost:8080/"
        },
        "id": "W7XdfL_LQUlz",
        "outputId": "351e4589-1309-4151-92d2-085d75373d64"
      },
      "outputs": [
        {
          "data": {
            "text/plain": [
              "tensor(2, device='cuda:0')"
            ]
          },
          "execution_count": 10,
          "metadata": {},
          "output_type": "execute_result"
        }
      ],
      "source": [
        "torch.argmin(tensor_mult)\n"
      ]
    },
    {
      "cell_type": "markdown",
      "metadata": {
        "id": "i0R6XpcwPxJb"
      },
      "source": [
        "10. Make a random tensor with shape (1, 1, 1, 10) and then create a new tensor with all the 1 dimensions removed to be left with a tensor of shape (10). Set the seed to 7 when you create it and print out the first tensor and it's shape as well as the second tensor and it's shape."
      ]
    },
    {
      "cell_type": "code",
      "execution_count": 17,
      "metadata": {
        "colab": {
          "base_uri": "https://localhost:8080/"
        },
        "id": "r551TAMHQ46N",
        "outputId": "f6628c63-61b7-4b68-d0db-f9194894b084"
      },
      "outputs": [
        {
          "name": "stdout",
          "output_type": "stream",
          "text": [
            "tensor([[[[0.5349, 0.1988, 0.6592, 0.6569, 0.2328, 0.4251, 0.2071, 0.6297,\n",
            "           0.3653, 0.8513]]]])\n",
            "torch.Size([1, 1, 1, 10])\n",
            "tensor([0.5349, 0.1988, 0.6592, 0.6569, 0.2328, 0.4251, 0.2071, 0.6297, 0.3653,\n",
            "        0.8513])\n",
            "torch.Size([10])\n"
          ]
        }
      ],
      "source": [
        "torch.manual_seed(7)\n",
        "random_tensor = torch.rand(1,1,1,10)\n",
        "print(random_tensor)\n",
        "print(random_tensor.shape)\n",
        "\n",
        "# remove all 1 dimensions\n",
        "reduced_tensor = random_tensor.squeeze()\n",
        "print(reduced_tensor)\n",
        "print(reduced_tensor.shape)\n"
      ]
    }
  ],
  "metadata": {
    "accelerator": "GPU",
    "colab": {
      "authorship_tag": "ABX9TyO+lWiQpsjPJxAa6UQk27mV",
      "gpuType": "T4",
      "include_colab_link": true,
      "provenance": []
    },
    "kernelspec": {
      "display_name": "Python 3",
      "name": "python3"
    },
    "language_info": {
      "name": "python",
      "version": "3.11.5"
    }
  },
  "nbformat": 4,
  "nbformat_minor": 0
}

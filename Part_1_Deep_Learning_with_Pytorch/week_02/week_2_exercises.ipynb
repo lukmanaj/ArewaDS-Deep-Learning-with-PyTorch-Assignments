{
  "cells": [
    {
      "cell_type": "markdown",
      "metadata": {
        "colab_type": "text",
        "id": "view-in-github"
      },
      "source": [
        "<a href=\"https://colab.research.google.com/github/lukmanaj/ArewaDS-Deep-Learning/blob/main/Part_1_Deep_Learning_with_Pytorch/week2/week_2_exercises.ipynb\" target=\"_parent\"><img src=\"https://colab.research.google.com/assets/colab-badge.svg\" alt=\"Open In Colab\"/></a>"
      ]
    },
    {
      "cell_type": "markdown",
      "metadata": {
        "id": "HsI8PF99QPT1"
      },
      "source": [
        "## Arewa DataScience Academy\n",
        "### Deep Learning Cohort 1.0\n",
        "\n",
        "### WEEK 2 Exercises\n",
        "\n",
        "####Name : Lukman Aliyu Jibril\n",
        "####email: lukman.j.aliyu@gmail.com"
      ]
    },
    {
      "cell_type": "markdown",
      "metadata": {
        "id": "XOlsaW4lQPT2"
      },
      "source": [
        "### Exercises:\n",
        "Please, see week 2 exercises from [**Learn PyTorch for Deep Learning**: 01. Pytorch Workflows](https://www.learnpytorch.io/01_pytorch_workflow/#exercises)"
      ]
    },
    {
      "cell_type": "code",
      "execution_count": 1,
      "metadata": {
        "colab": {
          "base_uri": "https://localhost:8080/",
          "height": 37
        },
        "id": "57D-mknOQWGs",
        "outputId": "506d01d1-8bda-4064-91b1-748eaeeb041d"
      },
      "outputs": [
        {
          "data": {
            "application/vnd.google.colaboratory.intrinsic+json": {
              "type": "string"
            },
            "text/plain": [
              "'2.1.0+cu121'"
            ]
          },
          "execution_count": 1,
          "metadata": {},
          "output_type": "execute_result"
        }
      ],
      "source": [
        "import torch\n",
        "import torch.nn as nn\n",
        "from matplotlib import pyplot as plt # for visualization\n",
        "from tqdm import tqdm # very nice library for seeing progress of loop operations\n",
        "\n",
        "\n",
        "torch.__version__"
      ]
    },
    {
      "cell_type": "code",
      "execution_count": 2,
      "metadata": {
        "colab": {
          "base_uri": "https://localhost:8080/"
        },
        "id": "Vao19FE7QfsC",
        "outputId": "0735180b-e5a9-43b7-a1f3-3c4fe4ea3e5e"
      },
      "outputs": [
        {
          "name": "stdout",
          "output_type": "stream",
          "text": [
            "Using device: cuda\n"
          ]
        }
      ],
      "source": [
        "# Setup device agnostic code\n",
        "device = \"cuda\" if torch.cuda.is_available() else \"cpu\"\n",
        "print(f\"Using device: {device}\")"
      ]
    },
    {
      "cell_type": "markdown",
      "metadata": {
        "id": "kBY_v3zcQ-_M"
      },
      "source": [
        "1. Create a straight line dataset using the linear regression formula (weight * X + bias).\n",
        "\n",
        "*   Set weight=0.3 and bias=0.9 there should be at least 100 datapoints total.\n",
        "\n",
        "*   Split the data into 80% training, 20% testing.\n",
        "\n",
        "*   Plot the training and testing data so it becomes visual.\n",
        "\n",
        "\n",
        "\n",
        "\n",
        "\n"
      ]
    },
    {
      "cell_type": "code",
      "execution_count": 3,
      "metadata": {
        "colab": {
          "base_uri": "https://localhost:8080/"
        },
        "id": "0fGm9hm9RjGL",
        "outputId": "bf4b5a36-76d9-49ab-8c65-c428e792dd43"
      },
      "outputs": [
        {
          "data": {
            "text/plain": [
              "(tensor([[0.0000],\n",
              "         [0.2000],\n",
              "         [0.4000],\n",
              "         [0.6000],\n",
              "         [0.8000],\n",
              "         [1.0000],\n",
              "         [1.2000],\n",
              "         [1.4000],\n",
              "         [1.6000],\n",
              "         [1.8000]]),\n",
              " tensor([[0.9000],\n",
              "         [0.9600],\n",
              "         [1.0200],\n",
              "         [1.0800],\n",
              "         [1.1400],\n",
              "         [1.2000],\n",
              "         [1.2600],\n",
              "         [1.3200],\n",
              "         [1.3800],\n",
              "         [1.4400]]))"
            ]
          },
          "execution_count": 3,
          "metadata": {},
          "output_type": "execute_result"
        }
      ],
      "source": [
        "weight = 0.3\n",
        "bias = 0.9\n",
        "# Create data\n",
        "start = 0\n",
        "end = 25\n",
        "step = 0.2\n",
        "X = torch.arange(start, end, step).unsqueeze(dim=1)\n",
        "y = weight * X + bias\n",
        "\n",
        "X[:10], y[:10]\n"
      ]
    },
    {
      "cell_type": "code",
      "execution_count": 4,
      "metadata": {
        "colab": {
          "base_uri": "https://localhost:8080/"
        },
        "id": "KOoa6emlSkU_",
        "outputId": "9f593ecb-41e4-49d2-d768-4bbcd26d32a7"
      },
      "outputs": [
        {
          "data": {
            "text/plain": [
              "(100, 100, 25, 25)"
            ]
          },
          "execution_count": 4,
          "metadata": {},
          "output_type": "execute_result"
        }
      ],
      "source": [
        "train_split = int(0.8 * len(X)) # 80% of data used for training set, 20% for testing\n",
        "X_train, y_train = X[:train_split], y[:train_split]\n",
        "X_test, y_test = X[train_split:], y[train_split:]\n",
        "\n",
        "len(X_train), len(y_train), len(X_test), len(y_test)"
      ]
    },
    {
      "cell_type": "code",
      "execution_count": 5,
      "metadata": {
        "id": "HsgDNP-uSvFl"
      },
      "outputs": [],
      "source": [
        "def plot_predictions(train_data=X_train,\n",
        "                     train_labels=y_train,\n",
        "                     test_data=X_test,\n",
        "                     test_labels=y_test,\n",
        "                     predictions=None):\n",
        "  \"\"\"\n",
        "  Plots training data, test data and compares predictions.\n",
        "  \"\"\"\n",
        "  plt.figure(figsize=(10, 7))\n",
        "\n",
        "  # Plot training data in blue\n",
        "  plt.scatter(train_data, train_labels, c=\"b\", s=4, label=\"Training data\")\n",
        "\n",
        "  # Plot test data in green\n",
        "  plt.scatter(test_data, test_labels, c=\"g\", s=4, label=\"Testing data\")\n",
        "\n",
        "  if predictions is not None:\n",
        "    # Plot the predictions in red (predictions were made on the test data)\n",
        "    plt.scatter(test_data, predictions, c=\"r\", s=4, label=\"Predictions\")\n",
        "\n",
        "  # Show the legend\n",
        "  plt.legend(prop={\"size\": 14});"
      ]
    },
    {
      "cell_type": "code",
      "execution_count": 6,
      "metadata": {
        "colab": {
          "base_uri": "https://localhost:8080/",
          "height": 599
        },
        "id": "bDaxgrusS4g7",
        "outputId": "2717c805-4ee8-451b-d239-b4662908bc70"
      },
      "outputs": [
        {
          "data": {
            "image/png": "[encoded data removed]",
            "text/plain": [
              "<Figure size 1000x700 with 1 Axes>"
            ]
          },
          "metadata": {},
          "output_type": "display_data"
        }
      ],
      "source": [
        "plot_predictions()"
      ]
    },
    {
      "cell_type": "markdown",
      "metadata": {
        "id": "IU2IMvgwTLfU"
      },
      "source": [
        "2. Build a PyTorch model by subclassing nn.Module.\n",
        "- Inside should be a randomly initialized nn.Parameter() with requires_grad=True, one for weights and one for bias.\n",
        "- Implement the forward() method to compute the linear regression function you used to create the dataset in 1.\n",
        "- Once you've constructed the model, make an instance of it and check its state_dict().\n",
        "\n",
        "- Note: If you'd like to use nn.Linear() instead of nn.Parameter() you can."
      ]
    },
    {
      "cell_type": "code",
      "execution_count": 7,
      "metadata": {
        "id": "OgbOijGgYeXt"
      },
      "outputs": [],
      "source": [
        "# Create a Linear Regression model class\n",
        "class LinearRegressionModel(nn.Module):\n",
        "    def __init__(self):\n",
        "        super().__init__()\n",
        "        self.weights = nn.Parameter(torch.randn(1,\n",
        "                                                dtype=torch.float),\n",
        "                                   requires_grad=True)\n",
        "\n",
        "        self.bias = nn.Parameter(torch.randn(1,\n",
        "                                            dtype=torch.float),\n",
        "                                requires_grad=True)\n",
        "\n",
        "    # Forward defines the computation in the model\n",
        "    def forward(self, x: torch.Tensor) -> torch.Tensor:\n",
        "        return self.weights * x + self.bias\n",
        "\n"
      ]
    },
    {
      "cell_type": "code",
      "execution_count": 8,
      "metadata": {
        "id": "fxQtI7vNZQgl"
      },
      "outputs": [],
      "source": [
        "# Subclass nn.Module to make our model\n",
        "class LinearRegressionModelV2(nn.Module):\n",
        "    def __init__(self):\n",
        "        super().__init__()\n",
        "        # Use nn.Linear() for creating the model parameters\n",
        "        self.linear_layer = nn.Linear(in_features=1,\n",
        "                                      out_features=1)\n",
        "\n",
        "    # Define the forward computation (input data x flows through nn.Linear())\n",
        "    def forward(self, x: torch.Tensor) -> torch.Tensor:\n",
        "        return self.linear_layer(x)\n",
        "\n",
        "\n"
      ]
    },
    {
      "cell_type": "code",
      "execution_count": 9,
      "metadata": {
        "colab": {
          "base_uri": "https://localhost:8080/"
        },
        "id": "xz3a06JZZyuB",
        "outputId": "b8f67c84-3a3a-406c-daea-6ddfc6d9344a"
      },
      "outputs": [
        {
          "data": {
            "text/plain": [
              "(LinearRegressionModel(),\n",
              " OrderedDict([('weights', tensor([0.3367])), ('bias', tensor([0.1288]))]))"
            ]
          },
          "execution_count": 9,
          "metadata": {},
          "output_type": "execute_result"
        }
      ],
      "source": [
        "torch.manual_seed(42)\n",
        "model_1 = LinearRegressionModel()\n",
        "model_1, model_1.state_dict()"
      ]
    },
    {
      "cell_type": "code",
      "execution_count": 10,
      "metadata": {
        "colab": {
          "base_uri": "https://localhost:8080/"
        },
        "id": "bY-XI8HMZ00a",
        "outputId": "adcd0acd-3633-446c-d7b0-251f756fcb81"
      },
      "outputs": [
        {
          "data": {
            "text/plain": [
              "(LinearRegressionModelV2(\n",
              "   (linear_layer): Linear(in_features=1, out_features=1, bias=True)\n",
              " ),\n",
              " OrderedDict([('linear_layer.weight', tensor([[0.7645]])),\n",
              "              ('linear_layer.bias', tensor([0.8300]))]))"
            ]
          },
          "execution_count": 10,
          "metadata": {},
          "output_type": "execute_result"
        }
      ],
      "source": [
        "torch.manual_seed(42)\n",
        "model_2 = LinearRegressionModelV2()\n",
        "model_2, model_2.state_dict()"
      ]
    },
    {
      "cell_type": "markdown",
      "metadata": {
        "id": "ldb_kISYaOyQ"
      },
      "source": [
        "3. Create a loss function and optimizer using nn.L1Loss() and torch.optim.SGD(params, lr) respectively.\n",
        "- Set the learning rate of the optimizer to be 0.01 and the parameters to optimize should be the model parameters from the model you created in 2.\n",
        "- Write a training loop to perform the appropriate training steps for 300 epochs.\n",
        "- The training loop should test the model on the test dataset every 20 epochs."
      ]
    },
    {
      "cell_type": "code",
      "execution_count": 11,
      "metadata": {
        "id": "stuHQejLaUd3"
      },
      "outputs": [],
      "source": [
        "# Create the loss function\n",
        "loss_fn = nn.L1Loss()\n",
        "\n",
        "# Create the optimizer\n",
        "optimizer = torch.optim.SGD(params=model_1.parameters(), # using model_1\n",
        "                            lr=0.01) #"
      ]
    },
    {
      "cell_type": "code",
      "execution_count": 12,
      "metadata": {
        "colab": {
          "base_uri": "https://localhost:8080/"
        },
        "id": "e28zcKbea_Fz",
        "outputId": "4f754894-7f4f-4bbd-e458-103faf40e136"
      },
      "outputs": [
        {
          "name": "stdout",
          "output_type": "stream",
          "text": [
            "Epoch: 0 | MAE Train Loss: 0.4079560935497284 | MAE Test Loss: 2.278273105621338 \n",
            "Epoch: 20 | MAE Train Loss: 0.32450252771377563 | MAE Test Loss: 1.484072208404541 \n",
            "Epoch: 40 | MAE Train Loss: 0.2746686041355133 | MAE Test Loss: 0.5454003214836121 \n",
            "Epoch: 60 | MAE Train Loss: 0.3228837847709656 | MAE Test Loss: 2.254345655441284 \n",
            "Epoch: 80 | MAE Train Loss: 0.44555217027664185 | MAE Test Loss: 1.915177345275879 \n",
            "Epoch: 100 | MAE Train Loss: 0.21672391891479492 | MAE Test Loss: 0.8878589868545532 \n",
            "Epoch: 120 | MAE Train Loss: 0.417906790971756 | MAE Test Loss: 1.8623242378234863 \n",
            "Epoch: 140 | MAE Train Loss: 0.38324204087257385 | MAE Test Loss: 1.8889905214309692 \n",
            "Epoch: 160 | MAE Train Loss: 0.586805522441864 | MAE Test Loss: 1.3809274435043335 \n",
            "Epoch: 180 | MAE Train Loss: 0.331992506980896 | MAE Test Loss: 1.9092423915863037 \n",
            "Epoch: 200 | MAE Train Loss: 0.24652355909347534 | MAE Test Loss: 2.0612125396728516 \n",
            "Epoch: 220 | MAE Train Loss: 0.2064310908317566 | MAE Test Loss: 2.114804983139038 \n",
            "Epoch: 240 | MAE Train Loss: 0.26871463656425476 | MAE Test Loss: 1.9380226135253906 \n",
            "Epoch: 260 | MAE Train Loss: 0.3781622052192688 | MAE Test Loss: 1.6595757007598877 \n",
            "Epoch: 280 | MAE Train Loss: 0.12271278351545334 | MAE Test Loss: 2.209027051925659 \n"
          ]
        }
      ],
      "source": [
        "torch.manual_seed(42)\n",
        "# Set the number of epochs (how many times the model will pass over the training data)\n",
        "epochs = 300\n",
        "\n",
        "# Create empty loss lists to track values\n",
        "train_loss_values = []\n",
        "test_loss_values = []\n",
        "epoch_count = []\n",
        "\n",
        "for epoch in range(epochs):\n",
        "    ### Training\n",
        "\n",
        "    # Put model in training mode (this is the default state of a model)\n",
        "    model_1.train()\n",
        "\n",
        "    # 1. Forward pass on train data using the forward() method inside\n",
        "    y_pred = model_1(X_train)\n",
        "    # print(y_pred)\n",
        "\n",
        "    # 2. Calculate the loss\n",
        "    loss = loss_fn(y_pred, y_train)\n",
        "\n",
        "    # 3. Zero grad of the optimizer\n",
        "    optimizer.zero_grad()\n",
        "\n",
        "    # 4. Loss backwards\n",
        "    loss.backward()\n",
        "\n",
        "    # 5. Progress the optimizer\n",
        "    optimizer.step()\n",
        "\n",
        "    ### Testing\n",
        "\n",
        "    # Put the model in evaluation mode\n",
        "    model_1.eval()\n",
        "\n",
        "    with torch.inference_mode():\n",
        "      # 1. Forward pass on test data\n",
        "      test_pred = model_1(X_test)\n",
        "\n",
        "      # 2. Caculate loss on test data\n",
        "      test_loss = loss_fn(test_pred, y_test.type(torch.float)) # predictions come in torch.float datatype, so comparisons need to be done with tensors of the same type\n",
        "\n",
        "      # Print out what's happening\n",
        "      if epoch % 20 == 0:\n",
        "            epoch_count.append(epoch)\n",
        "            train_loss_values.append(loss.detach().numpy())\n",
        "            test_loss_values.append(test_loss.detach().numpy())\n",
        "            print(f\"Epoch: {epoch} | MAE Train Loss: {loss} | MAE Test Loss: {test_loss} \")"
      ]
    },
    {
      "cell_type": "markdown",
      "metadata": {
        "id": "H7qSSbuVbylV"
      },
      "source": [
        "4. Make predictions with the trained model on the test data.\n",
        "- Visualize these predictions against the original training and testing data (note: you may need to make sure the predictions are not on the GPU if you want to use non-CUDA-enabled libraries such as matplotlib to plot)."
      ]
    },
    {
      "cell_type": "code",
      "execution_count": 13,
      "metadata": {
        "colab": {
          "base_uri": "https://localhost:8080/"
        },
        "id": "Pq_vGvHgcEFA",
        "outputId": "5e041801-5752-4396-88dd-36ba3648f3d8"
      },
      "outputs": [
        {
          "data": {
            "text/plain": [
              "tensor([[6.5164],\n",
              "        [6.5744],\n",
              "        [6.6324],\n",
              "        [6.6904],\n",
              "        [6.7484],\n",
              "        [6.8064],\n",
              "        [6.8644],\n",
              "        [6.9224],\n",
              "        [6.9805],\n",
              "        [7.0385],\n",
              "        [7.0965],\n",
              "        [7.1545],\n",
              "        [7.2125],\n",
              "        [7.2705],\n",
              "        [7.3285],\n",
              "        [7.3865],\n",
              "        [7.4445],\n",
              "        [7.5025],\n",
              "        [7.5605],\n",
              "        [7.6185],\n",
              "        [7.6765],\n",
              "        [7.7345],\n",
              "        [7.7925],\n",
              "        [7.8505],\n",
              "        [7.9085]])"
            ]
          },
          "execution_count": 13,
          "metadata": {},
          "output_type": "execute_result"
        }
      ],
      "source": [
        "model_1.eval()\n",
        "#make predictions on test set\n",
        "with torch.inference_mode():\n",
        "  y_preds = model_1(X_test)\n",
        "y_preds"
      ]
    },
    {
      "cell_type": "code",
      "execution_count": 14,
      "metadata": {
        "colab": {
          "base_uri": "https://localhost:8080/",
          "height": 599
        },
        "id": "Cm55CXmOb-0I",
        "outputId": "d5b051e1-fb1b-4c0a-9523-6b08065f4fd2"
      },
      "outputs": [
        {
          "data": {
            "image/png": "[encoded data removed]",
            "text/plain": [
              "<Figure size 1000x700 with 1 Axes>"
            ]
          },
          "metadata": {},
          "output_type": "display_data"
        }
      ],
      "source": [
        "plot_predictions(predictions=y_preds.cpu())"
      ]
    },
    {
      "cell_type": "markdown",
      "metadata": {
        "id": "_I2LNbuwdIhl"
      },
      "source": [
        "5. Save your trained model's state_dict() to file.\n",
        "- Create a new instance of your model class you made in 2. and load in the state_dict() you just saved to it.\n",
        "- Perform predictions on your test data with the loaded model and confirm they match the original model predictions from 4."
      ]
    },
    {
      "cell_type": "code",
      "execution_count": 15,
      "metadata": {
        "colab": {
          "base_uri": "https://localhost:8080/"
        },
        "id": "LaJms9eJdG_f",
        "outputId": "abdce3f4-5796-42e3-cf91-6fd0a0aed92e"
      },
      "outputs": [
        {
          "name": "stdout",
          "output_type": "stream",
          "text": [
            "Saving model to models/01_pytorch_model\n"
          ]
        }
      ],
      "source": [
        "from pathlib import Path\n",
        "\n",
        "# 1. Create models directory\n",
        "MODEL_PATH = Path(\"models\")\n",
        "MODEL_PATH.mkdir(parents = True,exist_ok = True)\n",
        "# 2. Create model save path\n",
        "MODEL_NAME = \"01_pytorch_model\"\n",
        "MODEL_SAVE_PATH = MODEL_PATH / MODEL_NAME\n",
        "# 3. Save the model state dict\n",
        "print(f\"Saving model to {MODEL_SAVE_PATH}\")\n",
        "torch.save(obj = model_1.state_dict(),f = MODEL_SAVE_PATH)"
      ]
    },
    {
      "cell_type": "code",
      "execution_count": 16,
      "metadata": {
        "colab": {
          "base_uri": "https://localhost:8080/"
        },
        "id": "cCbWA3x3ePzh",
        "outputId": "8c7bf844-f807-4588-f1ba-dd8c45c7369a"
      },
      "outputs": [
        {
          "data": {
            "text/plain": [
              "LinearRegressionModel()"
            ]
          },
          "execution_count": 16,
          "metadata": {},
          "output_type": "execute_result"
        }
      ],
      "source": [
        "# Create new instance of model and load saved state dict (make sure to put it on the target device)\n",
        "load_model = LinearRegressionModel()\n",
        "load_model.load_state_dict(torch.load(f = MODEL_SAVE_PATH))\n",
        "load_model.to(device)"
      ]
    },
    {
      "cell_type": "code",
      "execution_count": 17,
      "metadata": {
        "colab": {
          "base_uri": "https://localhost:8080/"
        },
        "id": "kP_zZnLIetfB",
        "outputId": "2c4996ee-7fd3-437b-ed05-117747229205"
      },
      "outputs": [
        {
          "data": {
            "text/plain": [
              "tensor([[True],\n",
              "        [True],\n",
              "        [True],\n",
              "        [True],\n",
              "        [True],\n",
              "        [True],\n",
              "        [True],\n",
              "        [True],\n",
              "        [True],\n",
              "        [True],\n",
              "        [True],\n",
              "        [True],\n",
              "        [True],\n",
              "        [True],\n",
              "        [True],\n",
              "        [True],\n",
              "        [True],\n",
              "        [True],\n",
              "        [True],\n",
              "        [True],\n",
              "        [True],\n",
              "        [True],\n",
              "        [True],\n",
              "        [True],\n",
              "        [True]])"
            ]
          },
          "execution_count": 17,
          "metadata": {},
          "output_type": "execute_result"
        }
      ],
      "source": [
        "# Make predictions with loaded model and compare them to the previous\n",
        "y_preds_new = load_model.cpu()(X_test.cpu())\n",
        "y_preds.cpu() == y_preds_new.cpu()"
      ]
    },
    {
      "cell_type": "code",
      "execution_count": 18,
      "metadata": {
        "colab": {
          "base_uri": "https://localhost:8080/"
        },
        "id": "RHuQ3m0-fgDm",
        "outputId": "23725cbf-b534-473f-8948-537821406da7"
      },
      "outputs": [
        {
          "data": {
            "text/plain": [
              "OrderedDict([('weights', tensor([0.2900])), ('bias', tensor([0.7162]))])"
            ]
          },
          "execution_count": 18,
          "metadata": {},
          "output_type": "execute_result"
        }
      ],
      "source": [
        "load_model.state_dict()\n"
      ]
    },
    {
      "cell_type": "markdown",
      "metadata": {
        "id": "DK24XFSsQPT2"
      },
      "source": [
        "### Additional Exercise\n",
        "[Click to view PDF 📄](https://github.com/arewadataScience/ArewaDS-Deep-Learning/blob/main/Part_1_Deep_Learning_with_Pytorch/week2/ArewaDS_Deep_Learning_Advanced_Assignment_Week2.pdf)"
      ]
    },
    {
      "cell_type": "markdown",
      "metadata": {
        "id": "gduVAjEWrDpz"
      },
      "source": [
        "Hello there! I hear you are now an expert in data manipulation and building linear regression models\n",
        "with PyTorch. Here are a few tasks, I will need your help with using the Synchonous Machine Learning\n",
        "Dataset.\n",
        "## Instructions:\n",
        "\n",
        "1. Feel free to explore beyond the below problems. There are right answers but no wrong approaches!\n",
        "2. Code-based solutions should be in code cells and text-based answers should be in markdown cells.\n",
        "3. You can use the hints ­ around.\n",
        "\n",
        "\n",
        "1. PyTorch Fundamentals\n",
        "\n",
        "Question 1. Loading our data...\n",
        "(a) Load the Synchronous Machine Learning Dataset as Numpy array. ­\n",
        "1\n",
        "(b) Convert the Numpy array to PyTorch tensor, original data tensor.\n",
        "\n",
        "Question 2. Art of ”Tensor Manipulation”\n",
        "\n",
        "(a) Print the size of the dataset.\n",
        "\n",
        "(b) Create a tensor, my pi tensor of same size as original data tensor containing values of 3.142 at\n",
        "every point and placed on your GPU device. Print the first 13 rows. Print tensor device location.\n",
        "Print tensor datatype.\n",
        "\n",
        "(c) Print the fifth-root of the sum of all values in my pi tensor.\n",
        "\n",
        "(d) Create a new tensor, my data tensor using the first and last 100 rows from the original data tensor.\n",
        "Print size of my data tensor [Expect a size of 200 rows].\n",
        "\n",
        "(e) Create two 1-D tensors, features and target from my data tensor. The feature is dIf (Changing\n",
        "of excitation current of synchronous machine) I) column and target is If (Excitation current of\n",
        "synchronous machine). ­\n",
        "\n",
        "\n",
        "2\n",
        "(f) Split your data into training and test data of ratio 75:25 respectively.\n",
        "2. PyTorch Workflow Fundamentals\n",
        "\n",
        "\n",
        "Question 3. Define your Linear model structure. You can use existing model.\n",
        "\n",
        "\n",
        "Question 4. Train model for any number of epochs. Generate 1 plot of Loss against Epoch during model\n",
        "training and testing. Choose any set of hyperparameters for model training.\n",
        "\n",
        "Question 5. Briefly comment on your results. What could be done to make the model or prediction\n",
        "better? (< 60 words)"
      ]
    },
    {
      "cell_type": "code",
      "execution_count": 19,
      "metadata": {
        "colab": {
          "base_uri": "https://localhost:8080/"
        },
        "id": "U-GZltMNQPT3",
        "outputId": "9f161d57-77b7-495c-c161-5b0839e27fb5",
        "vscode": {
          "languageId": "plaintext"
        }
      },
      "outputs": [
        {
          "name": "stdout",
          "output_type": "stream",
          "text": [
            "--2023-12-29 09:54:24--  https://archive.ics.uci.edu/static/public/607/synchronous+machine+data+set.zip\n",
            "Resolving archive.ics.uci.edu (archive.ics.uci.edu)... 128.195.10.252\n",
            "Connecting to archive.ics.uci.edu (archive.ics.uci.edu)|128.195.10.252|:443... connected.\n",
            "HTTP request sent, awaiting response... 200 OK\n",
            "Length: unspecified\n",
            "Saving to: ‘data.zip’\n",
            "\n",
            "data.zip                [ <=>                ]  14.37K  --.-KB/s    in 0.04s   \n",
            "\n",
            "2023-12-29 09:54:25 (392 KB/s) - ‘data.zip’ saved [14713]\n",
            "\n"
          ]
        }
      ],
      "source": [
        "# import libraries\n",
        "import zipfile\n",
        "import pandas as pd\n",
        "# download dataset in colab env\n",
        "!wget https://archive.ics.uci.edu/static/public/607/synchronous+machine+data+set.zip -O data.zip\n",
        "# unzip data\n",
        "with zipfile.ZipFile(\"data.zip\", 'r') as my_zip:\n",
        "  my_zip.extractall()\n",
        "# read csv and parse to pandas\n",
        "dataset_name = \"synchronous machine.csv\"\n",
        "data = pd.read_csv(dataset_name, delimiter=\";\", thousands=',')\n",
        "# get numpy data\n",
        "numpy_data = data.values"
      ]
    },
    {
      "cell_type": "code",
      "execution_count": 20,
      "metadata": {
        "colab": {
          "base_uri": "https://localhost:8080/",
          "height": 206
        },
        "id": "V7tkhx8FsI_V",
        "outputId": "791cb208-ad42-43bf-b19f-d7178d0aa9ff"
      },
      "outputs": [
        {
          "data": {
            "text/html": [
              "\n",
              "  <div id=\"df-689f6909-65e3-4580-b387-79a81e638633\" class=\"colab-df-container\">\n",
              "    <div>\n",
              "<style scoped>\n",
              "    .dataframe tbody tr th:only-of-type {\n",
              "        vertical-align: middle;\n",
              "    }\n",
              "\n",
              "    .dataframe tbody tr th {\n",
              "        vertical-align: top;\n",
              "    }\n",
              "\n",
              "    .dataframe thead th {\n",
              "        text-align: right;\n",
              "    }\n",
              "</style>\n",
              "<table border=\"1\" class=\"dataframe\">\n",
              "  <thead>\n",
              "    <tr style=\"text-align: right;\">\n",
              "      <th></th>\n",
              "      <th>Iy</th>\n",
              "      <th>PF</th>\n",
              "      <th>e</th>\n",
              "      <th>dIf</th>\n",
              "      <th>If</th>\n",
              "    </tr>\n",
              "  </thead>\n",
              "  <tbody>\n",
              "    <tr>\n",
              "      <th>0</th>\n",
              "      <td>3</td>\n",
              "      <td>66</td>\n",
              "      <td>34</td>\n",
              "      <td>383</td>\n",
              "      <td>1563</td>\n",
              "    </tr>\n",
              "    <tr>\n",
              "      <th>1</th>\n",
              "      <td>3</td>\n",
              "      <td>68</td>\n",
              "      <td>32</td>\n",
              "      <td>372</td>\n",
              "      <td>1552</td>\n",
              "    </tr>\n",
              "    <tr>\n",
              "      <th>2</th>\n",
              "      <td>3</td>\n",
              "      <td>7</td>\n",
              "      <td>3</td>\n",
              "      <td>36</td>\n",
              "      <td>154</td>\n",
              "    </tr>\n",
              "    <tr>\n",
              "      <th>3</th>\n",
              "      <td>3</td>\n",
              "      <td>72</td>\n",
              "      <td>28</td>\n",
              "      <td>338</td>\n",
              "      <td>1518</td>\n",
              "    </tr>\n",
              "    <tr>\n",
              "      <th>4</th>\n",
              "      <td>3</td>\n",
              "      <td>74</td>\n",
              "      <td>26</td>\n",
              "      <td>317</td>\n",
              "      <td>1497</td>\n",
              "    </tr>\n",
              "  </tbody>\n",
              "</table>\n",
              "</div>\n",
              "    <div class=\"colab-df-buttons\">\n",
              "\n",
              "  <div class=\"colab-df-container\">\n",
              "    <button class=\"colab-df-convert\" onclick=\"convertToInteractive('df-689f6909-65e3-4580-b387-79a81e638633')\"\n",
              "            title=\"Convert this dataframe to an interactive table.\"\n",
              "            style=\"display:none;\">\n",
              "\n",
              "  <svg xmlns=\"http://www.w3.org/2000/svg\" height=\"24px\" viewBox=\"0 -960 960 960\">\n",
              "    <path d=\"M120-120v-720h720v720H120Zm60-500h600v-160H180v160Zm220 220h160v-160H400v160Zm0 220h160v-160H400v160ZM180-400h160v-160H180v160Zm440 0h160v-160H620v160ZM180-180h160v-160H180v160Zm440 0h160v-160H620v160Z\"/>\n",
              "  </svg>\n",
              "    </button>\n",
              "\n",
              "  <style>\n",
              "    .colab-df-container {\n",
              "      display:flex;\n",
              "      gap: 12px;\n",
              "    }\n",
              "\n",
              "    .colab-df-convert {\n",
              "      background-color: #E8F0FE;\n",
              "      border: none;\n",
              "      border-radius: 50%;\n",
              "      cursor: pointer;\n",
              "      display: none;\n",
              "      fill: #1967D2;\n",
              "      height: 32px;\n",
              "      padding: 0 0 0 0;\n",
              "      width: 32px;\n",
              "    }\n",
              "\n",
              "    .colab-df-convert:hover {\n",
              "      background-color: #E2EBFA;\n",
              "      box-shadow: 0px 1px 2px rgba(60, 64, 67, 0.3), 0px 1px 3px 1px rgba(60, 64, 67, 0.15);\n",
              "      fill: #174EA6;\n",
              "    }\n",
              "\n",
              "    .colab-df-buttons div {\n",
              "      margin-bottom: 4px;\n",
              "    }\n",
              "\n",
              "    [theme=dark] .colab-df-convert {\n",
              "      background-color: #3B4455;\n",
              "      fill: #D2E3FC;\n",
              "    }\n",
              "\n",
              "    [theme=dark] .colab-df-convert:hover {\n",
              "      background-color: #434B5C;\n",
              "      box-shadow: 0px 1px 3px 1px rgba(0, 0, 0, 0.15);\n",
              "      filter: drop-shadow(0px 1px 2px rgba(0, 0, 0, 0.3));\n",
              "      fill: #FFFFFF;\n",
              "    }\n",
              "  </style>\n",
              "\n",
              "    <script>\n",
              "      const buttonEl =\n",
              "        document.querySelector('#df-689f6909-65e3-4580-b387-79a81e638633 button.colab-df-convert');\n",
              "      buttonEl.style.display =\n",
              "        google.colab.kernel.accessAllowed ? 'block' : 'none';\n",
              "\n",
              "      async function convertToInteractive(key) {\n",
              "        const element = document.querySelector('#df-689f6909-65e3-4580-b387-79a81e638633');\n",
              "        const dataTable =\n",
              "          await google.colab.kernel.invokeFunction('convertToInteractive',\n",
              "                                                    [key], {});\n",
              "        if (!dataTable) return;\n",
              "\n",
              "        const docLinkHtml = 'Like what you see? Visit the ' +\n",
              "          '<a target=\"_blank\" href=https://colab.research.google.com/notebooks/data_table.ipynb>data table notebook</a>'\n",
              "          + ' to learn more about interactive tables.';\n",
              "        element.innerHTML = '';\n",
              "        dataTable['output_type'] = 'display_data';\n",
              "        await google.colab.output.renderOutput(dataTable, element);\n",
              "        const docLink = document.createElement('div');\n",
              "        docLink.innerHTML = docLinkHtml;\n",
              "        element.appendChild(docLink);\n",
              "      }\n",
              "    </script>\n",
              "  </div>\n",
              "\n",
              "\n",
              "<div id=\"df-4b316298-ffce-4fc2-958c-283f74ea0a95\">\n",
              "  <button class=\"colab-df-quickchart\" onclick=\"quickchart('df-4b316298-ffce-4fc2-958c-283f74ea0a95')\"\n",
              "            title=\"Suggest charts\"\n",
              "            style=\"display:none;\">\n",
              "\n",
              "<svg xmlns=\"http://www.w3.org/2000/svg\" height=\"24px\"viewBox=\"0 0 24 24\"\n",
              "     width=\"24px\">\n",
              "    <g>\n",
              "        <path d=\"M19 3H5c-1.1 0-2 .9-2 2v14c0 1.1.9 2 2 2h14c1.1 0 2-.9 2-2V5c0-1.1-.9-2-2-2zM9 17H7v-7h2v7zm4 0h-2V7h2v10zm4 0h-2v-4h2v4z\"/>\n",
              "    </g>\n",
              "</svg>\n",
              "  </button>\n",
              "\n",
              "<style>\n",
              "  .colab-df-quickchart {\n",
              "      --bg-color: #E8F0FE;\n",
              "      --fill-color: #1967D2;\n",
              "      --hover-bg-color: #E2EBFA;\n",
              "      --hover-fill-color: #174EA6;\n",
              "      --disabled-fill-color: #AAA;\n",
              "      --disabled-bg-color: #DDD;\n",
              "  }\n",
              "\n",
              "  [theme=dark] .colab-df-quickchart {\n",
              "      --bg-color: #3B4455;\n",
              "      --fill-color: #D2E3FC;\n",
              "      --hover-bg-color: #434B5C;\n",
              "      --hover-fill-color: #FFFFFF;\n",
              "      --disabled-bg-color: #3B4455;\n",
              "      --disabled-fill-color: #666;\n",
              "  }\n",
              "\n",
              "  .colab-df-quickchart {\n",
              "    background-color: var(--bg-color);\n",
              "    border: none;\n",
              "    border-radius: 50%;\n",
              "    cursor: pointer;\n",
              "    display: none;\n",
              "    fill: var(--fill-color);\n",
              "    height: 32px;\n",
              "    padding: 0;\n",
              "    width: 32px;\n",
              "  }\n",
              "\n",
              "  .colab-df-quickchart:hover {\n",
              "    background-color: var(--hover-bg-color);\n",
              "    box-shadow: 0 1px 2px rgba(60, 64, 67, 0.3), 0 1px 3px 1px rgba(60, 64, 67, 0.15);\n",
              "    fill: var(--button-hover-fill-color);\n",
              "  }\n",
              "\n",
              "  .colab-df-quickchart-complete:disabled,\n",
              "  .colab-df-quickchart-complete:disabled:hover {\n",
              "    background-color: var(--disabled-bg-color);\n",
              "    fill: var(--disabled-fill-color);\n",
              "    box-shadow: none;\n",
              "  }\n",
              "\n",
              "  .colab-df-spinner {\n",
              "    border: 2px solid var(--fill-color);\n",
              "    border-color: transparent;\n",
              "    border-bottom-color: var(--fill-color);\n",
              "    animation:\n",
              "      spin 1s steps(1) infinite;\n",
              "  }\n",
              "\n",
              "  @keyframes spin {\n",
              "    0% {\n",
              "      border-color: transparent;\n",
              "      border-bottom-color: var(--fill-color);\n",
              "      border-left-color: var(--fill-color);\n",
              "    }\n",
              "    20% {\n",
              "      border-color: transparent;\n",
              "      border-left-color: var(--fill-color);\n",
              "      border-top-color: var(--fill-color);\n",
              "    }\n",
              "    30% {\n",
              "      border-color: transparent;\n",
              "      border-left-color: var(--fill-color);\n",
              "      border-top-color: var(--fill-color);\n",
              "      border-right-color: var(--fill-color);\n",
              "    }\n",
              "    40% {\n",
              "      border-color: transparent;\n",
              "      border-right-color: var(--fill-color);\n",
              "      border-top-color: var(--fill-color);\n",
              "    }\n",
              "    60% {\n",
              "      border-color: transparent;\n",
              "      border-right-color: var(--fill-color);\n",
              "    }\n",
              "    80% {\n",
              "      border-color: transparent;\n",
              "      border-right-color: var(--fill-color);\n",
              "      border-bottom-color: var(--fill-color);\n",
              "    }\n",
              "    90% {\n",
              "      border-color: transparent;\n",
              "      border-bottom-color: var(--fill-color);\n",
              "    }\n",
              "  }\n",
              "</style>\n",
              "\n",
              "  <script>\n",
              "    async function quickchart(key) {\n",
              "      const quickchartButtonEl =\n",
              "        document.querySelector('#' + key + ' button');\n",
              "      quickchartButtonEl.disabled = true;  // To prevent multiple clicks.\n",
              "      quickchartButtonEl.classList.add('colab-df-spinner');\n",
              "      try {\n",
              "        const charts = await google.colab.kernel.invokeFunction(\n",
              "            'suggestCharts', [key], {});\n",
              "      } catch (error) {\n",
              "        console.error('Error during call to suggestCharts:', error);\n",
              "      }\n",
              "      quickchartButtonEl.classList.remove('colab-df-spinner');\n",
              "      quickchartButtonEl.classList.add('colab-df-quickchart-complete');\n",
              "    }\n",
              "    (() => {\n",
              "      let quickchartButtonEl =\n",
              "        document.querySelector('#df-4b316298-ffce-4fc2-958c-283f74ea0a95 button');\n",
              "      quickchartButtonEl.style.display =\n",
              "        google.colab.kernel.accessAllowed ? 'block' : 'none';\n",
              "    })();\n",
              "  </script>\n",
              "</div>\n",
              "\n",
              "    </div>\n",
              "  </div>\n"
            ],
            "text/plain": [
              "   Iy  PF   e  dIf    If\n",
              "0   3  66  34  383  1563\n",
              "1   3  68  32  372  1552\n",
              "2   3   7   3   36   154\n",
              "3   3  72  28  338  1518\n",
              "4   3  74  26  317  1497"
            ]
          },
          "execution_count": 20,
          "metadata": {},
          "output_type": "execute_result"
        }
      ],
      "source": [
        "# just trying to understand the data\n",
        "data.head()"
      ]
    },
    {
      "cell_type": "code",
      "execution_count": 21,
      "metadata": {
        "colab": {
          "base_uri": "https://localhost:8080/"
        },
        "id": "infMJcZ5sb9w",
        "outputId": "f10c0c0e-8bdf-4276-c56b-3369d85c6605"
      },
      "outputs": [
        {
          "data": {
            "text/plain": [
              "torch.Size([557, 5])"
            ]
          },
          "execution_count": 21,
          "metadata": {},
          "output_type": "execute_result"
        }
      ],
      "source": [
        "# Convert the Numpy array to PyTorch tensor, original data tensor.\n",
        "original_data_tensor = torch.tensor(numpy_data)\n",
        "# getting the size of the tensor\n",
        "original_data_tensor.size()"
      ]
    },
    {
      "cell_type": "code",
      "execution_count": 22,
      "metadata": {
        "colab": {
          "base_uri": "https://localhost:8080/"
        },
        "id": "s_96MbD2s_Rt",
        "outputId": "23cc9162-0536-485d-e80d-7f5b53c2f37a"
      },
      "outputs": [
        {
          "name": "stdout",
          "output_type": "stream",
          "text": [
            " first 13 rows: \n",
            "  tensor([[3.1420, 3.1420, 3.1420, 3.1420, 3.1420],\n",
            "        [3.1420, 3.1420, 3.1420, 3.1420, 3.1420],\n",
            "        [3.1420, 3.1420, 3.1420, 3.1420, 3.1420],\n",
            "        [3.1420, 3.1420, 3.1420, 3.1420, 3.1420],\n",
            "        [3.1420, 3.1420, 3.1420, 3.1420, 3.1420],\n",
            "        [3.1420, 3.1420, 3.1420, 3.1420, 3.1420],\n",
            "        [3.1420, 3.1420, 3.1420, 3.1420, 3.1420],\n",
            "        [3.1420, 3.1420, 3.1420, 3.1420, 3.1420],\n",
            "        [3.1420, 3.1420, 3.1420, 3.1420, 3.1420],\n",
            "        [3.1420, 3.1420, 3.1420, 3.1420, 3.1420],\n",
            "        [3.1420, 3.1420, 3.1420, 3.1420, 3.1420],\n",
            "        [3.1420, 3.1420, 3.1420, 3.1420, 3.1420],\n",
            "        [3.1420, 3.1420, 3.1420, 3.1420, 3.1420]], device='cuda:0')\n",
            " device location: cuda:0\n",
            " tensor data type: torch.float32\n"
          ]
        }
      ],
      "source": [
        "device = \"cuda\"\n",
        "my_pi_tensor = torch.tensor(3.142, dtype=torch.float32).expand_as(original_data_tensor).to(device)\n",
        "print(f' first 13 rows: \\n  {my_pi_tensor[:13]}')\n",
        "print(f' device location: {my_pi_tensor.device}')\n",
        "print(f' tensor data type: {my_pi_tensor.dtype}')\n"
      ]
    },
    {
      "cell_type": "code",
      "execution_count": 23,
      "metadata": {
        "colab": {
          "base_uri": "https://localhost:8080/"
        },
        "id": "76C9glLut4Hz",
        "outputId": "38686f6f-7f91-4542-99b0-1ac7e5b3fffd"
      },
      "outputs": [
        {
          "data": {
            "text/plain": [
              "tensor(6.1434, device='cuda:0')"
            ]
          },
          "execution_count": 23,
          "metadata": {},
          "output_type": "execute_result"
        }
      ],
      "source": [
        "#Print the fifth-root of the sum of all values in my pi tensor.\n",
        "\n",
        "torch.pow(torch.sum(my_pi_tensor), 1 / 5)\n"
      ]
    },
    {
      "cell_type": "code",
      "execution_count": 24,
      "metadata": {
        "colab": {
          "base_uri": "https://localhost:8080/"
        },
        "id": "JBL9e65XuIH0",
        "outputId": "5a545b2a-f584-467d-e1c1-448b78349fa6"
      },
      "outputs": [
        {
          "name": "stdout",
          "output_type": "stream",
          "text": [
            " my data tensor size: torch.Size([200, 5])\n"
          ]
        }
      ],
      "source": [
        "# Create a new tensor, my data tensor using the first and last 100 rows from the original data tensor.\n",
        "# Print size of my data tensor [Expect a size of 200 rows].\n",
        "\n",
        "my_data_tensor = torch.cat((original_data_tensor[:100], original_data_tensor[-100:]), 0)\n",
        "print(f' my data tensor size: {my_data_tensor.size()}')\n"
      ]
    },
    {
      "cell_type": "code",
      "execution_count": 25,
      "metadata": {
        "id": "GQR5wmmouZDl"
      },
      "outputs": [],
      "source": [
        "#Create two 1-D tensors, features and target from my data tensor. The feature is dIf (Changing of excitation current of synchronous machine) I) column and target is If (Excitation current of synchronous machine). ­\n",
        "\n",
        "features = my_data_tensor[:, 3] # dIf is column 4 in the dataframe\n",
        "target = my_data_tensor[:, 4] # If is column 5 in the dataframe\n"
      ]
    },
    {
      "cell_type": "code",
      "execution_count": 26,
      "metadata": {
        "id": "nTrsfPGeu-0M"
      },
      "outputs": [],
      "source": [
        "# Split your data into training and test data of ratio 75:25 respectively.\n",
        "from sklearn.model_selection import train_test_split\n",
        "train_features, test_features, train_target, test_target = train_test_split(features, target, test_size=0.25, random_state=42)\n"
      ]
    },
    {
      "cell_type": "code",
      "execution_count": 27,
      "metadata": {
        "colab": {
          "base_uri": "https://localhost:8080/"
        },
        "id": "SIfIlS4k6Wrp",
        "outputId": "478eadbe-cfcb-4ca3-de37-e350ddff8a48"
      },
      "outputs": [
        {
          "data": {
            "text/plain": [
              "torch.int64"
            ]
          },
          "execution_count": 27,
          "metadata": {},
          "output_type": "execute_result"
        }
      ],
      "source": [
        "train_features.dtype"
      ]
    },
    {
      "cell_type": "code",
      "execution_count": 28,
      "metadata": {
        "id": "OD6gUl_nvYz-"
      },
      "outputs": [],
      "source": [
        "# Define your Linear model structure. You can use existing model.\n",
        "\n",
        "linear_model = nn.Linear(in_features=1, out_features=1)\n"
      ]
    },
    {
      "cell_type": "code",
      "execution_count": 29,
      "metadata": {
        "colab": {
          "base_uri": "https://localhost:8080/",
          "height": 467
        },
        "id": "DM0Z5y_98DQb",
        "outputId": "e58d360b-6147-4be2-9581-f56013988d8b"
      },
      "outputs": [
        {
          "name": "stderr",
          "output_type": "stream",
          "text": [
            "100%|██████████| 100/100 [00:00<00:00, 1522.89it/s]\n"
          ]
        },
        {
          "data": {
            "image/png": "[encoded data removed]",
            "text/plain": [
              "<Figure size 640x480 with 1 Axes>"
            ]
          },
          "metadata": {},
          "output_type": "display_data"
        }
      ],
      "source": [
        "# Convert data types\n",
        "train_features = train_features.float()\n",
        "train_target = train_target.float()\n",
        "test_features = test_features.float()\n",
        "test_target = test_target.float()\n",
        "\n",
        "# reshape\n",
        "train_features = train_features.view(-1, 1)\n",
        "test_features = test_features.view(-1, 1)\n",
        "train_target = train_target.view(-1,1)\n",
        "test_target = test_target.view(-1,1)\n",
        "\n",
        "# Create an optimizer\n",
        "optimizer = torch.optim.SGD(linear_model.parameters(), lr=0.001)\n",
        "\n",
        "# Define the loss function\n",
        "loss_fn = nn.L1Loss()\n",
        "\n",
        "# Set the number of epochs\n",
        "num_epochs = 100\n",
        "\n",
        "# Lists to store loss values for plotting\n",
        "train_losses = []\n",
        "test_losses = []\n",
        "\n",
        "# Train the model\n",
        "for epoch in tqdm(range(num_epochs)):\n",
        "    # Reset gradients\n",
        "    optimizer.zero_grad()\n",
        "\n",
        "    # Training step\n",
        "    linear_model.train()\n",
        "    predictions = linear_model(train_features)\n",
        "    loss = loss_fn(predictions, train_target)\n",
        "    loss.backward()\n",
        "    optimizer.step()\n",
        "    train_losses.append(loss.detach().numpy())\n",
        "\n",
        "    # Testing step\n",
        "    linear_model.eval()\n",
        "    #set inference mode so that we just output results without taking gradients\n",
        "    with torch.inference_mode():\n",
        "        predictions = linear_model(test_features)\n",
        "        loss = loss_fn(predictions, test_target)\n",
        "        test_losses.append(loss.detach().numpy())\n",
        "\n",
        "# Plot loss against epoch\n",
        "plt.plot(range(num_epochs), train_losses, label=\"Train loss\")\n",
        "plt.plot(range(num_epochs), test_losses, label=\"Test loss\")\n",
        "plt.xlabel(\"Epoch\")\n",
        "plt.ylabel(\"Loss\")\n",
        "plt.legend()\n",
        "plt.show()\n"
      ]
    },
    {
      "cell_type": "code",
      "execution_count": 30,
      "metadata": {
        "colab": {
          "base_uri": "https://localhost:8080/"
        },
        "id": "rU9k1Rxj_Ebu",
        "outputId": "0c9cdc00-e45f-4812-bdf8-14736c09d09e"
      },
      "outputs": [
        {
          "data": {
            "text/plain": [
              "tensor([[1106.7197],\n",
              "        [ 143.8989],\n",
              "        [ 838.8382],\n",
              "        [1378.4838],\n",
              "        [2888.7148],\n",
              "        [2768.3623],\n",
              "        [ 380.7218],\n",
              "        [2139.4229],\n",
              "        [1813.3060],\n",
              "        [1032.9552],\n",
              "        [ 730.1326],\n",
              "        [2985.7734],\n",
              "        [2721.7742],\n",
              "        [1188.2489],\n",
              "        [2415.0691],\n",
              "        [ 718.4856],\n",
              "        [ 167.1930],\n",
              "        [2193.7756],\n",
              "        [ 636.9564],\n",
              "        [ 369.0748],\n",
              "        [ 986.3672],\n",
              "        [ 143.8989],\n",
              "        [2830.4797],\n",
              "        [1273.6605],\n",
              "        [ 702.9562],\n",
              "        [1211.5430],\n",
              "        [ 675.7798],\n",
              "        [ 353.5454],\n",
              "        [1075.6610],\n",
              "        [2566.4805],\n",
              "        [ 858.2499],\n",
              "        [1541.5421],\n",
              "        [1572.6008],\n",
              "        [1339.6603],\n",
              "        [2531.5393],\n",
              "        [ 105.0755],\n",
              "        [2294.7166],\n",
              "        [1867.6588],\n",
              "        [2954.7146],\n",
              "        [1401.7778],\n",
              "        [1230.9547],\n",
              "        [  62.3697],\n",
              "        [1692.9535],\n",
              "        [1262.0134],\n",
              "        [1533.7775],\n",
              "        [ 551.5449],\n",
              "        [   8.0169],\n",
              "        [1607.5419],\n",
              "        [ 963.0732],\n",
              "        [  31.3110]])"
            ]
          },
          "execution_count": 30,
          "metadata": {},
          "output_type": "execute_result"
        }
      ],
      "source": [
        "linear_model.eval()\n",
        "#make predictions on test set\n",
        "with torch.inference_mode():\n",
        "  y_preds = linear_model(test_features)\n",
        "y_preds"
      ]
    },
    {
      "cell_type": "code",
      "execution_count": 31,
      "metadata": {
        "colab": {
          "base_uri": "https://localhost:8080/",
          "height": 599
        },
        "id": "Y98kcMe-_kvl",
        "outputId": "9a981ad1-9a5e-47c8-a298-a882f74b2be4"
      },
      "outputs": [
        {
          "data": {
            "image/png": "[encoded data removed]",
            "text/plain": [
              "<Figure size 1000x700 with 1 Axes>"
            ]
          },
          "metadata": {},
          "output_type": "display_data"
        }
      ],
      "source": [
        "plot_predictions(train_data=train_features,\n",
        "                     train_labels=train_target,\n",
        "                     test_data=test_features,\n",
        "                     test_labels=test_target,\n",
        "                     predictions=y_preds.cpu())"
      ]
    },
    {
      "cell_type": "markdown",
      "metadata": {
        "id": "mSJ8O7TS-2G6"
      },
      "source": [
        "The decreasing loss indicates progress in training, but the model's predictive accuracy isn't yet optimal, as evident from the plot. Enhancing performance could involve adopting a more sophisticated model architecture or refining hyperparameters. Exploring these adjustments can lead to better alignment between predictions and expected outcomes."
      ]
    },
    {
      "cell_type": "markdown",
      "metadata": {
        "id": "zEGDHHJbQPT4"
      },
      "source": [
        "SUBMIT ASSIGNMENT HERE: [CLICK ME ▶️](https://forms.gle/876vi4aNoFf4A2mU7)"
      ]
    }
  ],
  "metadata": {
    "accelerator": "GPU",
    "colab": {
      "gpuType": "T4",
      "include_colab_link": true,
      "provenance": [],
      "toc_visible": true
    },
    "kernelspec": {
      "display_name": "Python 3",
      "name": "python3"
    },
    "language_info": {
      "name": "python"
    }
  },
  "nbformat": 4,
  "nbformat_minor": 0
}
